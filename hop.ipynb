{
 "cells": [
  {
   "cell_type": "code",
   "execution_count": 62,
   "id": "0eeba872",
   "metadata": {},
   "outputs": [],
   "source": [
    "import numpy as np"
   ]
  },
  {
   "cell_type": "markdown",
   "id": "3e0fcf5a",
   "metadata": {},
   "source": [
    "### original stored memory"
   ]
  },
  {
   "cell_type": "code",
   "execution_count": 63,
   "id": "71c45e13",
   "metadata": {},
   "outputs": [],
   "source": [
    "s = np.array([1,1,1,0])"
   ]
  },
  {
   "cell_type": "code",
   "execution_count": 64,
   "id": "d1db73ff",
   "metadata": {},
   "outputs": [],
   "source": [
    "W = np.outer(s,s)"
   ]
  },
  {
   "cell_type": "markdown",
   "id": "9be2989b",
   "metadata": {},
   "source": [
    "### W_ij matrix"
   ]
  },
  {
   "cell_type": "code",
   "execution_count": 65,
   "id": "b069b1d7",
   "metadata": {},
   "outputs": [
    {
     "data": {
      "text/plain": [
       "array([[1, 1, 1, 0],\n",
       "       [1, 1, 1, 0],\n",
       "       [1, 1, 1, 0],\n",
       "       [0, 0, 0, 0]])"
      ]
     },
     "execution_count": 65,
     "metadata": {},
     "output_type": "execute_result"
    }
   ],
   "source": [
    "W"
   ]
  },
  {
   "cell_type": "code",
   "execution_count": 66,
   "id": "cec9de75",
   "metadata": {},
   "outputs": [],
   "source": [
    "np.fill_diagonal(W, 0)"
   ]
  },
  {
   "cell_type": "code",
   "execution_count": 67,
   "id": "4f22043c",
   "metadata": {},
   "outputs": [
    {
     "data": {
      "text/plain": [
       "array([[0, 1, 1, 0],\n",
       "       [1, 0, 1, 0],\n",
       "       [1, 1, 0, 0],\n",
       "       [0, 0, 0, 0]])"
      ]
     },
     "execution_count": 67,
     "metadata": {},
     "output_type": "execute_result"
    }
   ],
   "source": [
    "W"
   ]
  },
  {
   "cell_type": "markdown",
   "id": "21426ae3",
   "metadata": {},
   "source": [
    "### imperfect memory"
   ]
  },
  {
   "cell_type": "code",
   "execution_count": 68,
   "id": "4b86fd36",
   "metadata": {},
   "outputs": [],
   "source": [
    "x = np.array([0,0,1,0])"
   ]
  },
  {
   "cell_type": "code",
   "execution_count": 69,
   "id": "fd8bdf6a",
   "metadata": {},
   "outputs": [
    {
     "data": {
      "text/plain": [
       "array([0, 0, 1, 0])"
      ]
     },
     "execution_count": 69,
     "metadata": {},
     "output_type": "execute_result"
    }
   ],
   "source": [
    "y = x\n",
    "y"
   ]
  },
  {
   "cell_type": "markdown",
   "id": "a70465cc",
   "metadata": {},
   "source": [
    "### updating the first node"
   ]
  },
  {
   "cell_type": "code",
   "execution_count": 70,
   "id": "4159066c",
   "metadata": {},
   "outputs": [
    {
     "data": {
      "text/plain": [
       "np.int64(1)"
      ]
     },
     "execution_count": 70,
     "metadata": {},
     "output_type": "execute_result"
    }
   ],
   "source": [
    "z0 = x[0] + y.dot(W[:, 0])\n",
    "z0"
   ]
  },
  {
   "cell_type": "code",
   "execution_count": 71,
   "id": "0f48e67e",
   "metadata": {},
   "outputs": [],
   "source": [
    "def val(y):\n",
    "    if y>0:\n",
    "        return 1\n",
    "    else:\n",
    "        return 0"
   ]
  },
  {
   "cell_type": "code",
   "execution_count": 72,
   "id": "0ff759e6",
   "metadata": {},
   "outputs": [
    {
     "data": {
      "text/plain": [
       "array([1, 0, 1, 0])"
      ]
     },
     "execution_count": 72,
     "metadata": {},
     "output_type": "execute_result"
    }
   ],
   "source": [
    "y[0] = val(z0)\n",
    "y"
   ]
  },
  {
   "cell_type": "markdown",
   "id": "10900cc1",
   "metadata": {},
   "source": [
    "### updating all the nodes (sync)"
   ]
  },
  {
   "cell_type": "code",
   "execution_count": 73,
   "id": "973e7ab0",
   "metadata": {},
   "outputs": [],
   "source": [
    "for i in range(4):\n",
    "    y[i] = val(x[i] + y.dot(W[:,i]))"
   ]
  },
  {
   "cell_type": "markdown",
   "id": "d2abc127",
   "metadata": {},
   "source": [
    "### final restored memory"
   ]
  },
  {
   "cell_type": "code",
   "execution_count": 74,
   "id": "c59e8da4",
   "metadata": {},
   "outputs": [
    {
     "data": {
      "text/plain": [
       "array([1, 1, 1, 0])"
      ]
     },
     "execution_count": 74,
     "metadata": {},
     "output_type": "execute_result"
    }
   ],
   "source": [
    "y"
   ]
  }
 ],
 "metadata": {
  "kernelspec": {
   "display_name": ".venv",
   "language": "python",
   "name": "python3"
  },
  "language_info": {
   "codemirror_mode": {
    "name": "ipython",
    "version": 3
   },
   "file_extension": ".py",
   "mimetype": "text/x-python",
   "name": "python",
   "nbconvert_exporter": "python",
   "pygments_lexer": "ipython3",
   "version": "3.11.11"
  }
 },
 "nbformat": 4,
 "nbformat_minor": 5
}
