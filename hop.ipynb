{
 "cells": [
  {
   "cell_type": "code",
   "execution_count": 39,
   "id": "0eeba872",
   "metadata": {},
   "outputs": [],
   "source": [
    "import numpy as np"
   ]
  },
  {
   "cell_type": "code",
   "execution_count": 40,
   "id": "d1db73ff",
   "metadata": {},
   "outputs": [],
   "source": [
    "S = np.array([1,1,1,-1])\n",
    "z = np.outer(S,S)"
   ]
  },
  {
   "cell_type": "code",
   "execution_count": 41,
   "id": "7c1297b2",
   "metadata": {},
   "outputs": [],
   "source": [
    "equivalent = [1,1,1,0]"
   ]
  },
  {
   "cell_type": "code",
   "execution_count": 42,
   "id": "b069b1d7",
   "metadata": {},
   "outputs": [
    {
     "data": {
      "text/plain": [
       "array([[ 1,  1,  1, -1],\n",
       "       [ 1,  1,  1, -1],\n",
       "       [ 1,  1,  1, -1],\n",
       "       [-1, -1, -1,  1]])"
      ]
     },
     "execution_count": 42,
     "metadata": {},
     "output_type": "execute_result"
    }
   ],
   "source": [
    "z"
   ]
  },
  {
   "cell_type": "code",
   "execution_count": 43,
   "id": "cec9de75",
   "metadata": {},
   "outputs": [],
   "source": [
    "np.fill_diagonal(z, 0)"
   ]
  },
  {
   "cell_type": "code",
   "execution_count": 44,
   "id": "4f22043c",
   "metadata": {},
   "outputs": [
    {
     "data": {
      "text/plain": [
       "array([[ 0,  1,  1, -1],\n",
       "       [ 1,  0,  1, -1],\n",
       "       [ 1,  1,  0, -1],\n",
       "       [-1, -1, -1,  0]])"
      ]
     },
     "execution_count": 44,
     "metadata": {},
     "output_type": "execute_result"
    }
   ],
   "source": [
    "z"
   ]
  },
  {
   "cell_type": "code",
   "execution_count": 45,
   "id": "4b86fd36",
   "metadata": {},
   "outputs": [],
   "source": [
    "x = np.array([0,0,1,0])"
   ]
  },
  {
   "cell_type": "code",
   "execution_count": 46,
   "id": "fd8bdf6a",
   "metadata": {},
   "outputs": [
    {
     "data": {
      "text/plain": [
       "array([0, 0, 1, 0])"
      ]
     },
     "execution_count": 46,
     "metadata": {},
     "output_type": "execute_result"
    }
   ],
   "source": [
    "y = x\n",
    "y"
   ]
  },
  {
   "cell_type": "code",
   "execution_count": 47,
   "id": "4159066c",
   "metadata": {},
   "outputs": [
    {
     "data": {
      "text/plain": [
       "1"
      ]
     },
     "execution_count": 47,
     "metadata": {},
     "output_type": "execute_result"
    }
   ],
   "source": [
    "z0 = x[0] + y.dot(z[:, 0])\n",
    "z0"
   ]
  },
  {
   "cell_type": "code",
   "execution_count": 48,
   "id": "0f48e67e",
   "metadata": {},
   "outputs": [],
   "source": [
    "def val(y):\n",
    "    if y>0:\n",
    "        return 1\n",
    "    else:\n",
    "        return 0"
   ]
  },
  {
   "cell_type": "code",
   "execution_count": 49,
   "id": "0ff759e6",
   "metadata": {},
   "outputs": [
    {
     "data": {
      "text/plain": [
       "array([1, 0, 1, 0])"
      ]
     },
     "execution_count": 49,
     "metadata": {},
     "output_type": "execute_result"
    }
   ],
   "source": [
    "y[0] = val(z0)\n",
    "y"
   ]
  },
  {
   "cell_type": "code",
   "execution_count": 51,
   "id": "973e7ab0",
   "metadata": {},
   "outputs": [
    {
     "data": {
      "text/plain": [
       "array([1, 1, 1, 0])"
      ]
     },
     "execution_count": 51,
     "metadata": {},
     "output_type": "execute_result"
    }
   ],
   "source": [
    "for i in range(4):\n",
    "    y[i] = val(x[i] + y.dot(z[:,i]))\n",
    "y"
   ]
  }
 ],
 "metadata": {
  "kernelspec": {
   "display_name": "venv",
   "language": "python",
   "name": "python3"
  },
  "language_info": {
   "codemirror_mode": {
    "name": "ipython",
    "version": 3
   },
   "file_extension": ".py",
   "mimetype": "text/x-python",
   "name": "python",
   "nbconvert_exporter": "python",
   "pygments_lexer": "ipython3",
   "version": "3.11.11"
  }
 },
 "nbformat": 4,
 "nbformat_minor": 5
}
